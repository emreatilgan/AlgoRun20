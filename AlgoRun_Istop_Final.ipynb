{
 "cells": [
  {
   "cell_type": "markdown",
   "metadata": {},
   "source": [
    "# Libraries"
   ]
  },
  {
   "cell_type": "code",
   "execution_count": 1,
   "metadata": {},
   "outputs": [],
   "source": [
    "import pandas as pd\n",
    "import numpy as np\n",
    "import matplotlib.pyplot as plt\n",
    "import seaborn as sns\n",
    "import datetime as dt\n",
    "import os\n",
    "\n",
    "import warnings\n",
    "warnings.filterwarnings(\"ignore\")\n",
    "pd.options.display.max_rows = 100\n",
    "%matplotlib inline"
   ]
  },
  {
   "cell_type": "markdown",
   "metadata": {},
   "source": [
    "# Helper Functions"
   ]
  },
  {
   "cell_type": "code",
   "execution_count": 2,
   "metadata": {},
   "outputs": [],
   "source": [
    "def merge_other_sources(df):\n",
    "    # Merges the features generated on product_hierarchy and store_cities dataframes with sales data\n",
    "    \n",
    "    temp = df.copy()\n",
    "    \n",
    "    temp_hier = temp.merge(product_hierarchy[['product_id','deep_hierarchy','number_of_products']], on='product_id')\n",
    "    \n",
    "    temp_all = temp_hier.merge(store_cities_pop[['store_id','city_id','pop','number_of_store']], on='store_id')\n",
    "    \n",
    "    return(temp_all)"
   ]
  },
  {
   "cell_type": "code",
   "execution_count": 3,
   "metadata": {},
   "outputs": [],
   "source": [
    "def create_feeatures(df):\n",
    "    # Creates features for both train and test data\n",
    "    \n",
    "    temp = df.copy()\n",
    "    \n",
    "    # Date related features\n",
    "    temp['date'] = pd.to_datetime(temp['date'])\n",
    "    temp['day_of_month'] = temp['date'].dt.day\n",
    "    temp['month_of_year'] = temp['date'].dt.month\n",
    "    temp['day_of_week'] = temp['date'].dt.dayofweek\n",
    "    temp['year'] = temp['date'].dt.year\n",
    "    \n",
    "    # To make bool features to integer 1,0, multiple with 1\n",
    "    temp['is_month_start'] = temp['date'].dt.is_month_start*1\n",
    "    temp['is_month_end'] = temp['date'].dt.is_month_end*1\n",
    "    temp['is_year_start'] = temp['date'].dt.is_year_start*1\n",
    "    temp['is_year_end'] = temp['date'].dt.is_year_end*1\n",
    "    \n",
    "    temp['is_weekend'] = np.where(temp['day_of_week'].isin(['5','6']),1,0)\n",
    "    \n",
    "    temp.loc[temp['month_of_year'].isin([3,4,5]), 'season'] = 0\n",
    "    temp.loc[temp['month_of_year'].isin([6,7,8]), 'season'] = 1\n",
    "    temp.loc[temp['month_of_year'].isin([9,10,11]), 'season'] = 2\n",
    "    temp.loc[temp['month_of_year'].isin([12,1,2]), 'season'] = 3\n",
    "    \n",
    "    # Calculate product age (day between sales date and launch date)\n",
    "    temp = temp.merge(product_launched_date, on='product_id')\n",
    "    temp['product_age'] = (temp['date'] - temp['launch_date']).dt.days\n",
    "    temp.drop('launch_date',axis=1,inplace=True)\n",
    "    \n",
    "    return(temp)"
   ]
  },
  {
   "cell_type": "code",
   "execution_count": 4,
   "metadata": {},
   "outputs": [],
   "source": [
    "def get_product_launched_day(df):\n",
    "    # Created product_id, launched_date table for further use\n",
    "    \n",
    "    temp = df.copy()\n",
    "    product_start_date = pd.DataFrame(temp.groupby('product_id')['date'].min()).reset_index()\n",
    "\n",
    "    product_start_date.columns = ['product_id', 'launch_date']\n",
    "\n",
    "    product_start_date['launch_date'] = pd.to_datetime(product_start_date['launch_date'])\n",
    "    \n",
    "    return(product_start_date)"
   ]
  },
  {
   "cell_type": "markdown",
   "metadata": {},
   "source": [
    "# Load Data "
   ]
  },
  {
   "cell_type": "code",
   "execution_count": 5,
   "metadata": {},
   "outputs": [],
   "source": [
    "sales = pd.read_csv('/Users/emre.atilgan/Desktop/AlgoRun20/data/sales.csv', sep = '|')\n",
    "\n",
    "final_submission = pd.read_csv('/Users/emre.atilgan/Desktop/AlgoRun20/data/test.csv', sep = '|')\n",
    "\n",
    "product_hierarchy = pd.read_csv('/Users/emre.atilgan/Desktop/AlgoRun20/data/product_hierarchy.csv', sep = '|')\n",
    "\n",
    "product_values = pd.read_csv('/Users/emre.atilgan/Desktop/AlgoRun20/data/product_values.csv', sep = '|')\n",
    "\n",
    "sample_submission = pd.read_csv('/Users/emre.atilgan/Desktop/AlgoRun20/data/sample_submission.csv', sep = '|')\n",
    "\n",
    "store_cities = pd.read_csv('/Users/emre.atilgan/Desktop/AlgoRun20/data/store_cities.csv', sep = '|')"
   ]
  },
  {
   "cell_type": "markdown",
   "metadata": {},
   "source": [
    "# Unique Values"
   ]
  },
  {
   "cell_type": "markdown",
   "metadata": {},
   "source": [
    "We have 3660 different products sold in 48 different stores at the dates between 2017-01-01 and 2019-12-31."
   ]
  },
  {
   "cell_type": "markdown",
   "metadata": {},
   "source": [
    "# Hierarchies and Cities Data Sets "
   ]
  },
  {
   "cell_type": "markdown",
   "metadata": {},
   "source": [
    "### Hierarchies\n"
   ]
  },
  {
   "cell_type": "code",
   "execution_count": 6,
   "metadata": {},
   "outputs": [],
   "source": [
    "product_hierarchy['hierarchy_id_1'] = product_hierarchy['hierarchy_id_1'].astype(str)\n",
    "product_hierarchy['hierarchy_id_2'] = product_hierarchy['hierarchy_id_2'].astype(str)\n",
    "product_hierarchy['hierarchy_id_3'] = product_hierarchy['hierarchy_id_3'].astype(str)"
   ]
  },
  {
   "cell_type": "code",
   "execution_count": 7,
   "metadata": {},
   "outputs": [],
   "source": [
    "product_hierarchy['deep_hierarchy'] = product_hierarchy[['hierarchy_id_1', 'hierarchy_id_2', 'hierarchy_id_3']].agg('_'.join, axis=1)\n",
    "product_hierarchy['middle_hierarchy'] = product_hierarchy[['hierarchy_id_1', 'hierarchy_id_2']].agg('_'.join, axis=1)\n",
    "product_hierarchy['top_hierarchy'] =  product_hierarchy['hierarchy_id_1']"
   ]
  },
  {
   "cell_type": "code",
   "execution_count": 8,
   "metadata": {},
   "outputs": [],
   "source": [
    "product_hierarchy['number_of_products'] = product_hierarchy.groupby('deep_hierarchy')['product_id'].transform(pd.Series.nunique)\n"
   ]
  },
  {
   "cell_type": "code",
   "execution_count": 9,
   "metadata": {},
   "outputs": [
    {
     "data": {
      "text/html": [
       "<div>\n",
       "<style scoped>\n",
       "    .dataframe tbody tr th:only-of-type {\n",
       "        vertical-align: middle;\n",
       "    }\n",
       "\n",
       "    .dataframe tbody tr th {\n",
       "        vertical-align: top;\n",
       "    }\n",
       "\n",
       "    .dataframe thead th {\n",
       "        text-align: right;\n",
       "    }\n",
       "</style>\n",
       "<table border=\"1\" class=\"dataframe\">\n",
       "  <thead>\n",
       "    <tr style=\"text-align: right;\">\n",
       "      <th></th>\n",
       "      <th>product_id</th>\n",
       "      <th>hierarchy_id_1</th>\n",
       "      <th>hierarchy_id_2</th>\n",
       "      <th>hierarchy_id_3</th>\n",
       "      <th>deep_hierarchy</th>\n",
       "      <th>middle_hierarchy</th>\n",
       "      <th>top_hierarchy</th>\n",
       "      <th>number_of_products</th>\n",
       "    </tr>\n",
       "  </thead>\n",
       "  <tbody>\n",
       "    <tr>\n",
       "      <td>0</td>\n",
       "      <td>1</td>\n",
       "      <td>13</td>\n",
       "      <td>14</td>\n",
       "      <td>4</td>\n",
       "      <td>13_14_4</td>\n",
       "      <td>13_14</td>\n",
       "      <td>13</td>\n",
       "      <td>39</td>\n",
       "    </tr>\n",
       "    <tr>\n",
       "      <td>1</td>\n",
       "      <td>2</td>\n",
       "      <td>5</td>\n",
       "      <td>12</td>\n",
       "      <td>8</td>\n",
       "      <td>5_12_8</td>\n",
       "      <td>5_12</td>\n",
       "      <td>5</td>\n",
       "      <td>642</td>\n",
       "    </tr>\n",
       "    <tr>\n",
       "      <td>2</td>\n",
       "      <td>3</td>\n",
       "      <td>2</td>\n",
       "      <td>3</td>\n",
       "      <td>1</td>\n",
       "      <td>2_3_1</td>\n",
       "      <td>2_3</td>\n",
       "      <td>2</td>\n",
       "      <td>174</td>\n",
       "    </tr>\n",
       "    <tr>\n",
       "      <td>3</td>\n",
       "      <td>4</td>\n",
       "      <td>9</td>\n",
       "      <td>11</td>\n",
       "      <td>13</td>\n",
       "      <td>9_11_13</td>\n",
       "      <td>9_11</td>\n",
       "      <td>9</td>\n",
       "      <td>532</td>\n",
       "    </tr>\n",
       "    <tr>\n",
       "      <td>4</td>\n",
       "      <td>5</td>\n",
       "      <td>9</td>\n",
       "      <td>6</td>\n",
       "      <td>13</td>\n",
       "      <td>9_6_13</td>\n",
       "      <td>9_6</td>\n",
       "      <td>9</td>\n",
       "      <td>1216</td>\n",
       "    </tr>\n",
       "  </tbody>\n",
       "</table>\n",
       "</div>"
      ],
      "text/plain": [
       "   product_id hierarchy_id_1 hierarchy_id_2 hierarchy_id_3 deep_hierarchy  \\\n",
       "0           1             13             14              4        13_14_4   \n",
       "1           2              5             12              8         5_12_8   \n",
       "2           3              2              3              1          2_3_1   \n",
       "3           4              9             11             13        9_11_13   \n",
       "4           5              9              6             13         9_6_13   \n",
       "\n",
       "  middle_hierarchy top_hierarchy  number_of_products  \n",
       "0            13_14            13                  39  \n",
       "1             5_12             5                 642  \n",
       "2              2_3             2                 174  \n",
       "3             9_11             9                 532  \n",
       "4              9_6             9                1216  "
      ]
     },
     "execution_count": 9,
     "metadata": {},
     "output_type": "execute_result"
    }
   ],
   "source": [
    "product_hierarchy.head()"
   ]
  },
  {
   "cell_type": "markdown",
   "metadata": {},
   "source": [
    "### Cities"
   ]
  },
  {
   "cell_type": "code",
   "execution_count": 10,
   "metadata": {},
   "outputs": [],
   "source": [
    "# source: \n",
    "population = pd.DataFrame({'city':store_cities['city'].unique(),\n",
    "                           'pop':[2237940,5639076,2511700,3056120,15519267,4367251,2073614,542157,1756353,285410,1407409,983142,1136757]})"
   ]
  },
  {
   "cell_type": "code",
   "execution_count": 11,
   "metadata": {},
   "outputs": [],
   "source": [
    "store_cities_pop = store_cities.merge(population, on='city')"
   ]
  },
  {
   "cell_type": "code",
   "execution_count": 12,
   "metadata": {},
   "outputs": [],
   "source": [
    "store_cities_pop['number_of_store'] = store_cities_pop.groupby('city_id')['store_id'].transform(pd.Series.nunique)"
   ]
  },
  {
   "cell_type": "code",
   "execution_count": 13,
   "metadata": {
    "scrolled": true
   },
   "outputs": [
    {
     "data": {
      "text/html": [
       "<div>\n",
       "<style scoped>\n",
       "    .dataframe tbody tr th:only-of-type {\n",
       "        vertical-align: middle;\n",
       "    }\n",
       "\n",
       "    .dataframe tbody tr th {\n",
       "        vertical-align: top;\n",
       "    }\n",
       "\n",
       "    .dataframe thead th {\n",
       "        text-align: right;\n",
       "    }\n",
       "</style>\n",
       "<table border=\"1\" class=\"dataframe\">\n",
       "  <thead>\n",
       "    <tr style=\"text-align: right;\">\n",
       "      <th></th>\n",
       "      <th>store_id</th>\n",
       "      <th>city</th>\n",
       "      <th>city_id</th>\n",
       "      <th>pop</th>\n",
       "      <th>number_of_store</th>\n",
       "    </tr>\n",
       "  </thead>\n",
       "  <tbody>\n",
       "    <tr>\n",
       "      <td>0</td>\n",
       "      <td>22</td>\n",
       "      <td>adana</td>\n",
       "      <td>1</td>\n",
       "      <td>2237940</td>\n",
       "      <td>4</td>\n",
       "    </tr>\n",
       "    <tr>\n",
       "      <td>1</td>\n",
       "      <td>16</td>\n",
       "      <td>adana</td>\n",
       "      <td>1</td>\n",
       "      <td>2237940</td>\n",
       "      <td>4</td>\n",
       "    </tr>\n",
       "    <tr>\n",
       "      <td>2</td>\n",
       "      <td>57</td>\n",
       "      <td>adana</td>\n",
       "      <td>1</td>\n",
       "      <td>2237940</td>\n",
       "      <td>4</td>\n",
       "    </tr>\n",
       "    <tr>\n",
       "      <td>3</td>\n",
       "      <td>73</td>\n",
       "      <td>adana</td>\n",
       "      <td>1</td>\n",
       "      <td>2237940</td>\n",
       "      <td>4</td>\n",
       "    </tr>\n",
       "    <tr>\n",
       "      <td>4</td>\n",
       "      <td>1</td>\n",
       "      <td>ankara</td>\n",
       "      <td>2</td>\n",
       "      <td>5639076</td>\n",
       "      <td>7</td>\n",
       "    </tr>\n",
       "  </tbody>\n",
       "</table>\n",
       "</div>"
      ],
      "text/plain": [
       "   store_id    city  city_id      pop  number_of_store\n",
       "0        22   adana        1  2237940                4\n",
       "1        16   adana        1  2237940                4\n",
       "2        57   adana        1  2237940                4\n",
       "3        73   adana        1  2237940                4\n",
       "4         1  ankara        2  5639076                7"
      ]
     },
     "execution_count": 13,
     "metadata": {},
     "output_type": "execute_result"
    }
   ],
   "source": [
    "store_cities_pop.head()"
   ]
  },
  {
   "cell_type": "markdown",
   "metadata": {},
   "source": [
    "# Data Cleaning"
   ]
  },
  {
   "cell_type": "markdown",
   "metadata": {},
   "source": [
    "### Missing Values"
   ]
  },
  {
   "cell_type": "code",
   "execution_count": 14,
   "metadata": {},
   "outputs": [
    {
     "data": {
      "text/plain": [
       "0"
      ]
     },
     "execution_count": 14,
     "metadata": {},
     "output_type": "execute_result"
    }
   ],
   "source": [
    "# One possible column for missing is sales_quantity\n",
    "sum(sales.sales_quantity.isna())"
   ]
  },
  {
   "cell_type": "markdown",
   "metadata": {},
   "source": [
    "### Outliers"
   ]
  },
  {
   "cell_type": "code",
   "execution_count": 15,
   "metadata": {},
   "outputs": [
    {
     "data": {
      "text/plain": [
       "count    4.959690e+06\n",
       "mean     4.169944e+00\n",
       "std      1.738579e+01\n",
       "min      1.666667e-01\n",
       "25%      1.000000e+00\n",
       "50%      2.000000e+00\n",
       "75%      3.000000e+00\n",
       "max      3.369000e+03\n",
       "Name: sales_quantity, dtype: float64"
      ]
     },
     "execution_count": 15,
     "metadata": {},
     "output_type": "execute_result"
    }
   ],
   "source": [
    "# Again, only possibilty is that there may be extreme sales_quantites. \n",
    "# Mostly zeros, therefore not include the zero values\n",
    "sales[sales['sales_quantity'] != 0]['sales_quantity'].describe()"
   ]
  },
  {
   "cell_type": "code",
   "execution_count": 16,
   "metadata": {},
   "outputs": [
    {
     "data": {
      "text/plain": [
       "<matplotlib.axes._subplots.AxesSubplot at 0x132dc5f50>"
      ]
     },
     "execution_count": 16,
     "metadata": {},
     "output_type": "execute_result"
    },
    {
     "data": {
      "image/png": "[encoded data removed]",
      "text/plain": [
       "<Figure size 432x288 with 1 Axes>"
      ]
     },
     "metadata": {
      "needs_background": "light"
     },
     "output_type": "display_data"
    }
   ],
   "source": [
    "sales[sales['sales_quantity'] != 0].boxplot('sales_quantity')"
   ]
  },
  {
   "cell_type": "code",
   "execution_count": 17,
   "metadata": {},
   "outputs": [
    {
     "data": {
      "text/html": [
       "<div>\n",
       "<style scoped>\n",
       "    .dataframe tbody tr th:only-of-type {\n",
       "        vertical-align: middle;\n",
       "    }\n",
       "\n",
       "    .dataframe tbody tr th {\n",
       "        vertical-align: top;\n",
       "    }\n",
       "\n",
       "    .dataframe thead th {\n",
       "        text-align: right;\n",
       "    }\n",
       "</style>\n",
       "<table border=\"1\" class=\"dataframe\">\n",
       "  <thead>\n",
       "    <tr style=\"text-align: right;\">\n",
       "      <th></th>\n",
       "      <th>store_id</th>\n",
       "      <th>product_id</th>\n",
       "      <th>date</th>\n",
       "      <th>sales_quantity</th>\n",
       "      <th>is_promo</th>\n",
       "    </tr>\n",
       "  </thead>\n",
       "  <tbody>\n",
       "    <tr>\n",
       "      <td>626813</td>\n",
       "      <td>135</td>\n",
       "      <td>2819</td>\n",
       "      <td>2017-09-29</td>\n",
       "      <td>2933.0</td>\n",
       "      <td>0</td>\n",
       "    </tr>\n",
       "    <tr>\n",
       "      <td>5262067</td>\n",
       "      <td>94</td>\n",
       "      <td>3302</td>\n",
       "      <td>2017-09-17</td>\n",
       "      <td>2845.0</td>\n",
       "      <td>0</td>\n",
       "    </tr>\n",
       "    <tr>\n",
       "      <td>11945517</td>\n",
       "      <td>94</td>\n",
       "      <td>2819</td>\n",
       "      <td>2017-09-30</td>\n",
       "      <td>3369.0</td>\n",
       "      <td>1</td>\n",
       "    </tr>\n",
       "    <tr>\n",
       "      <td>13458082</td>\n",
       "      <td>94</td>\n",
       "      <td>3302</td>\n",
       "      <td>2017-08-19</td>\n",
       "      <td>3072.0</td>\n",
       "      <td>0</td>\n",
       "    </tr>\n",
       "    <tr>\n",
       "      <td>16801434</td>\n",
       "      <td>94</td>\n",
       "      <td>3302</td>\n",
       "      <td>2017-09-16</td>\n",
       "      <td>2740.0</td>\n",
       "      <td>0</td>\n",
       "    </tr>\n",
       "    <tr>\n",
       "      <td>24060021</td>\n",
       "      <td>94</td>\n",
       "      <td>2819</td>\n",
       "      <td>2017-09-29</td>\n",
       "      <td>3219.0</td>\n",
       "      <td>1</td>\n",
       "    </tr>\n",
       "  </tbody>\n",
       "</table>\n",
       "</div>"
      ],
      "text/plain": [
       "          store_id  product_id        date  sales_quantity  is_promo\n",
       "626813         135        2819  2017-09-29          2933.0         0\n",
       "5262067         94        3302  2017-09-17          2845.0         0\n",
       "11945517        94        2819  2017-09-30          3369.0         1\n",
       "13458082        94        3302  2017-08-19          3072.0         0\n",
       "16801434        94        3302  2017-09-16          2740.0         0\n",
       "24060021        94        2819  2017-09-29          3219.0         1"
      ]
     },
     "execution_count": 17,
     "metadata": {},
     "output_type": "execute_result"
    }
   ],
   "source": [
    "sales[sales['sales_quantity'] >= 2000]"
   ]
  },
  {
   "cell_type": "code",
   "execution_count": 18,
   "metadata": {},
   "outputs": [
    {
     "data": {
      "text/plain": [
       "product_id\n",
       "2819    48.0\n",
       "46      29.0\n",
       "3302    21.0\n",
       "1900    17.0\n",
       "2494    10.0\n",
       "1555     8.0\n",
       "2095     8.0\n",
       "141      7.0\n",
       "344      6.0\n",
       "2105     5.0\n",
       "Name: sales_quantity, dtype: float64"
      ]
     },
     "execution_count": 18,
     "metadata": {},
     "output_type": "execute_result"
    }
   ],
   "source": [
    "sales.groupby('product_id')['sales_quantity'].median().sort_values(ascending=False).head(10)"
   ]
  },
  {
   "cell_type": "code",
   "execution_count": 19,
   "metadata": {},
   "outputs": [
    {
     "data": {
      "text/plain": [
       "product_id\n",
       "2819    116.194031\n",
       "46       66.161749\n",
       "3302     55.887983\n",
       "344      32.905683\n",
       "1900     28.946861\n",
       "1555     22.844707\n",
       "141      20.870359\n",
       "2494     20.722819\n",
       "2105     16.740613\n",
       "2095     14.975820\n",
       "Name: sales_quantity, dtype: float64"
      ]
     },
     "execution_count": 19,
     "metadata": {},
     "output_type": "execute_result"
    }
   ],
   "source": [
    "sales.groupby('product_id')['sales_quantity'].mean().sort_values(ascending=False).head(10)"
   ]
  },
  {
   "cell_type": "code",
   "execution_count": 20,
   "metadata": {
    "scrolled": true
   },
   "outputs": [
    {
     "data": {
      "text/html": [
       "<div>\n",
       "<style scoped>\n",
       "    .dataframe tbody tr th:only-of-type {\n",
       "        vertical-align: middle;\n",
       "    }\n",
       "\n",
       "    .dataframe tbody tr th {\n",
       "        vertical-align: top;\n",
       "    }\n",
       "\n",
       "    .dataframe thead th {\n",
       "        text-align: right;\n",
       "    }\n",
       "</style>\n",
       "<table border=\"1\" class=\"dataframe\">\n",
       "  <thead>\n",
       "    <tr style=\"text-align: right;\">\n",
       "      <th></th>\n",
       "      <th>product_id</th>\n",
       "      <th>hierarchy_id_1</th>\n",
       "      <th>hierarchy_id_2</th>\n",
       "      <th>hierarchy_id_3</th>\n",
       "      <th>deep_hierarchy</th>\n",
       "      <th>middle_hierarchy</th>\n",
       "      <th>top_hierarchy</th>\n",
       "      <th>number_of_products</th>\n",
       "    </tr>\n",
       "  </thead>\n",
       "  <tbody>\n",
       "    <tr>\n",
       "      <td>45</td>\n",
       "      <td>46</td>\n",
       "      <td>1</td>\n",
       "      <td>1</td>\n",
       "      <td>2</td>\n",
       "      <td>1_1_2</td>\n",
       "      <td>1_1</td>\n",
       "      <td>1</td>\n",
       "      <td>112</td>\n",
       "    </tr>\n",
       "    <tr>\n",
       "      <td>140</td>\n",
       "      <td>141</td>\n",
       "      <td>1</td>\n",
       "      <td>1</td>\n",
       "      <td>2</td>\n",
       "      <td>1_1_2</td>\n",
       "      <td>1_1</td>\n",
       "      <td>1</td>\n",
       "      <td>112</td>\n",
       "    </tr>\n",
       "    <tr>\n",
       "      <td>343</td>\n",
       "      <td>344</td>\n",
       "      <td>1</td>\n",
       "      <td>1</td>\n",
       "      <td>2</td>\n",
       "      <td>1_1_2</td>\n",
       "      <td>1_1</td>\n",
       "      <td>1</td>\n",
       "      <td>112</td>\n",
       "    </tr>\n",
       "    <tr>\n",
       "      <td>1554</td>\n",
       "      <td>1555</td>\n",
       "      <td>1</td>\n",
       "      <td>1</td>\n",
       "      <td>2</td>\n",
       "      <td>1_1_2</td>\n",
       "      <td>1_1</td>\n",
       "      <td>1</td>\n",
       "      <td>112</td>\n",
       "    </tr>\n",
       "    <tr>\n",
       "      <td>1899</td>\n",
       "      <td>1900</td>\n",
       "      <td>1</td>\n",
       "      <td>1</td>\n",
       "      <td>2</td>\n",
       "      <td>1_1_2</td>\n",
       "      <td>1_1</td>\n",
       "      <td>1</td>\n",
       "      <td>112</td>\n",
       "    </tr>\n",
       "    <tr>\n",
       "      <td>2094</td>\n",
       "      <td>2095</td>\n",
       "      <td>1</td>\n",
       "      <td>1</td>\n",
       "      <td>2</td>\n",
       "      <td>1_1_2</td>\n",
       "      <td>1_1</td>\n",
       "      <td>1</td>\n",
       "      <td>112</td>\n",
       "    </tr>\n",
       "    <tr>\n",
       "      <td>2104</td>\n",
       "      <td>2105</td>\n",
       "      <td>1</td>\n",
       "      <td>1</td>\n",
       "      <td>2</td>\n",
       "      <td>1_1_2</td>\n",
       "      <td>1_1</td>\n",
       "      <td>1</td>\n",
       "      <td>112</td>\n",
       "    </tr>\n",
       "    <tr>\n",
       "      <td>2493</td>\n",
       "      <td>2494</td>\n",
       "      <td>1</td>\n",
       "      <td>1</td>\n",
       "      <td>2</td>\n",
       "      <td>1_1_2</td>\n",
       "      <td>1_1</td>\n",
       "      <td>1</td>\n",
       "      <td>112</td>\n",
       "    </tr>\n",
       "    <tr>\n",
       "      <td>2818</td>\n",
       "      <td>2819</td>\n",
       "      <td>1</td>\n",
       "      <td>1</td>\n",
       "      <td>2</td>\n",
       "      <td>1_1_2</td>\n",
       "      <td>1_1</td>\n",
       "      <td>1</td>\n",
       "      <td>112</td>\n",
       "    </tr>\n",
       "    <tr>\n",
       "      <td>3301</td>\n",
       "      <td>3302</td>\n",
       "      <td>1</td>\n",
       "      <td>1</td>\n",
       "      <td>2</td>\n",
       "      <td>1_1_2</td>\n",
       "      <td>1_1</td>\n",
       "      <td>1</td>\n",
       "      <td>112</td>\n",
       "    </tr>\n",
       "  </tbody>\n",
       "</table>\n",
       "</div>"
      ],
      "text/plain": [
       "      product_id hierarchy_id_1 hierarchy_id_2 hierarchy_id_3 deep_hierarchy  \\\n",
       "45            46              1              1              2          1_1_2   \n",
       "140          141              1              1              2          1_1_2   \n",
       "343          344              1              1              2          1_1_2   \n",
       "1554        1555              1              1              2          1_1_2   \n",
       "1899        1900              1              1              2          1_1_2   \n",
       "2094        2095              1              1              2          1_1_2   \n",
       "2104        2105              1              1              2          1_1_2   \n",
       "2493        2494              1              1              2          1_1_2   \n",
       "2818        2819              1              1              2          1_1_2   \n",
       "3301        3302              1              1              2          1_1_2   \n",
       "\n",
       "     middle_hierarchy top_hierarchy  number_of_products  \n",
       "45                1_1             1                 112  \n",
       "140               1_1             1                 112  \n",
       "343               1_1             1                 112  \n",
       "1554              1_1             1                 112  \n",
       "1899              1_1             1                 112  \n",
       "2094              1_1             1                 112  \n",
       "2104              1_1             1                 112  \n",
       "2493              1_1             1                 112  \n",
       "2818              1_1             1                 112  \n",
       "3301              1_1             1                 112  "
      ]
     },
     "execution_count": 20,
     "metadata": {},
     "output_type": "execute_result"
    }
   ],
   "source": [
    "product_hierarchy[product_hierarchy['product_id'].isin([2819,3302,46,344,1900,1555,141,2494,2105,2095])]"
   ]
  },
  {
   "cell_type": "code",
   "execution_count": 21,
   "metadata": {},
   "outputs": [
    {
     "data": {
      "text/html": [
       "<div>\n",
       "<style scoped>\n",
       "    .dataframe tbody tr th:only-of-type {\n",
       "        vertical-align: middle;\n",
       "    }\n",
       "\n",
       "    .dataframe tbody tr th {\n",
       "        vertical-align: top;\n",
       "    }\n",
       "\n",
       "    .dataframe thead th {\n",
       "        text-align: right;\n",
       "    }\n",
       "</style>\n",
       "<table border=\"1\" class=\"dataframe\">\n",
       "  <thead>\n",
       "    <tr style=\"text-align: right;\">\n",
       "      <th></th>\n",
       "      <th>store_id</th>\n",
       "      <th>city</th>\n",
       "      <th>city_id</th>\n",
       "      <th>pop</th>\n",
       "      <th>number_of_store</th>\n",
       "    </tr>\n",
       "  </thead>\n",
       "  <tbody>\n",
       "    <tr>\n",
       "      <td>8</td>\n",
       "      <td>94</td>\n",
       "      <td>ankara</td>\n",
       "      <td>2</td>\n",
       "      <td>5639076</td>\n",
       "      <td>7</td>\n",
       "    </tr>\n",
       "  </tbody>\n",
       "</table>\n",
       "</div>"
      ],
      "text/plain": [
       "   store_id    city  city_id      pop  number_of_store\n",
       "8        94  ankara        2  5639076                7"
      ]
     },
     "execution_count": 21,
     "metadata": {},
     "output_type": "execute_result"
    }
   ],
   "source": [
    "store_cities_pop[store_cities_pop['store_id'] == 94]"
   ]
  },
  {
   "cell_type": "markdown",
   "metadata": {},
   "source": [
    "PS: Since products are in the water deep hierarchy, we won't delete the extreme values"
   ]
  },
  {
   "cell_type": "markdown",
   "metadata": {},
   "source": [
    "# Merge All Source Of Information"
   ]
  },
  {
   "cell_type": "code",
   "execution_count": 22,
   "metadata": {},
   "outputs": [],
   "source": [
    "sales = merge_other_sources(sales)"
   ]
  },
  {
   "cell_type": "code",
   "execution_count": 23,
   "metadata": {},
   "outputs": [],
   "source": [
    "final_submission = merge_other_sources(final_submission)"
   ]
  },
  {
   "cell_type": "markdown",
   "metadata": {},
   "source": [
    "# Feature Engineering"
   ]
  },
  {
   "cell_type": "markdown",
   "metadata": {},
   "source": [
    "Ideas:\n",
    "- Date features: hangi gün, haftaiçi haftasonu, hangi ay, hangi mevsim, hangi yıl, ramazan mı değil mi, okul açılış tarihleri\n",
    "\n",
    "- Store&Date = Storun yaşı if önemli\n",
    "- Product&Date = Product yaşı if önemli\n",
    "- Product = kaç farklı storeda satılıyor\n",
    "- City = City_id, competitive number\n",
    " "
   ]
  },
  {
   "cell_type": "code",
   "execution_count": null,
   "metadata": {},
   "outputs": [],
   "source": [
    "#store_start_date = pd.DataFrame(sales_all.groupby('store_id')['date'].min()).reset_index()\n",
    "#store_start_date['date'].value_counts()"
   ]
  },
  {
   "cell_type": "code",
   "execution_count": 24,
   "metadata": {},
   "outputs": [],
   "source": [
    "product_launched_date = get_product_launched_day(sales)"
   ]
  },
  {
   "cell_type": "code",
   "execution_count": 25,
   "metadata": {},
   "outputs": [],
   "source": [
    "sales_all = create_feeatures(sales)"
   ]
  },
  {
   "cell_type": "code",
   "execution_count": 26,
   "metadata": {},
   "outputs": [],
   "source": [
    "final_submission_all = create_feeatures(final_submission)"
   ]
  },
  {
   "cell_type": "markdown",
   "metadata": {},
   "source": [
    "# Base Models"
   ]
  },
  {
   "cell_type": "code",
   "execution_count": 27,
   "metadata": {},
   "outputs": [],
   "source": [
    "from sklearn.model_selection import train_test_split\n",
    "from sklearn.metrics import mean_squared_log_error"
   ]
  },
  {
   "cell_type": "code",
   "execution_count": 28,
   "metadata": {},
   "outputs": [],
   "source": [
    "target_col = ['sales_quantity']"
   ]
  },
  {
   "cell_type": "code",
   "execution_count": 29,
   "metadata": {},
   "outputs": [],
   "source": [
    "X_train, X_test, y_train, y_test = train_test_split(sales_all.drop('sales_quantity',axis=1),\n",
    "                                                    sales_all['sales_quantity'],\n",
    "                                                    test_size=0.33,\n",
    "                                                    random_state=1)"
   ]
  },
  {
   "cell_type": "markdown",
   "metadata": {},
   "source": [
    "### Means of product_id & date as target"
   ]
  },
  {
   "cell_type": "code",
   "execution_count": 30,
   "metadata": {},
   "outputs": [],
   "source": [
    "base_1 = pd.DataFrame(sales_all.groupby(['date','product_id'])['sales_quantity'].mean()).reset_index()"
   ]
  },
  {
   "cell_type": "code",
   "execution_count": 31,
   "metadata": {
    "scrolled": true
   },
   "outputs": [
    {
     "data": {
      "text/html": [
       "<div>\n",
       "<style scoped>\n",
       "    .dataframe tbody tr th:only-of-type {\n",
       "        vertical-align: middle;\n",
       "    }\n",
       "\n",
       "    .dataframe tbody tr th {\n",
       "        vertical-align: top;\n",
       "    }\n",
       "\n",
       "    .dataframe thead th {\n",
       "        text-align: right;\n",
       "    }\n",
       "</style>\n",
       "<table border=\"1\" class=\"dataframe\">\n",
       "  <thead>\n",
       "    <tr style=\"text-align: right;\">\n",
       "      <th></th>\n",
       "      <th>date</th>\n",
       "      <th>product_id</th>\n",
       "      <th>sales_quantity</th>\n",
       "    </tr>\n",
       "  </thead>\n",
       "  <tbody>\n",
       "    <tr>\n",
       "      <td>0</td>\n",
       "      <td>2017-01-01</td>\n",
       "      <td>1</td>\n",
       "      <td>1.250000</td>\n",
       "    </tr>\n",
       "    <tr>\n",
       "      <td>1</td>\n",
       "      <td>2017-01-01</td>\n",
       "      <td>8</td>\n",
       "      <td>1.000000</td>\n",
       "    </tr>\n",
       "    <tr>\n",
       "      <td>2</td>\n",
       "      <td>2017-01-01</td>\n",
       "      <td>22</td>\n",
       "      <td>0.076923</td>\n",
       "    </tr>\n",
       "    <tr>\n",
       "      <td>3</td>\n",
       "      <td>2017-01-01</td>\n",
       "      <td>25</td>\n",
       "      <td>1.750000</td>\n",
       "    </tr>\n",
       "    <tr>\n",
       "      <td>4</td>\n",
       "      <td>2017-01-01</td>\n",
       "      <td>28</td>\n",
       "      <td>0.000000</td>\n",
       "    </tr>\n",
       "    <tr>\n",
       "      <td>...</td>\n",
       "      <td>...</td>\n",
       "      <td>...</td>\n",
       "      <td>...</td>\n",
       "    </tr>\n",
       "    <tr>\n",
       "      <td>2235111</td>\n",
       "      <td>2019-12-31</td>\n",
       "      <td>3641</td>\n",
       "      <td>0.333333</td>\n",
       "    </tr>\n",
       "    <tr>\n",
       "      <td>2235112</td>\n",
       "      <td>2019-12-31</td>\n",
       "      <td>3642</td>\n",
       "      <td>0.333333</td>\n",
       "    </tr>\n",
       "    <tr>\n",
       "      <td>2235113</td>\n",
       "      <td>2019-12-31</td>\n",
       "      <td>3645</td>\n",
       "      <td>0.000000</td>\n",
       "    </tr>\n",
       "    <tr>\n",
       "      <td>2235114</td>\n",
       "      <td>2019-12-31</td>\n",
       "      <td>3650</td>\n",
       "      <td>0.000000</td>\n",
       "    </tr>\n",
       "    <tr>\n",
       "      <td>2235115</td>\n",
       "      <td>2019-12-31</td>\n",
       "      <td>3654</td>\n",
       "      <td>0.000000</td>\n",
       "    </tr>\n",
       "  </tbody>\n",
       "</table>\n",
       "<p>2235116 rows × 3 columns</p>\n",
       "</div>"
      ],
      "text/plain": [
       "              date  product_id  sales_quantity\n",
       "0       2017-01-01           1        1.250000\n",
       "1       2017-01-01           8        1.000000\n",
       "2       2017-01-01          22        0.076923\n",
       "3       2017-01-01          25        1.750000\n",
       "4       2017-01-01          28        0.000000\n",
       "...            ...         ...             ...\n",
       "2235111 2019-12-31        3641        0.333333\n",
       "2235112 2019-12-31        3642        0.333333\n",
       "2235113 2019-12-31        3645        0.000000\n",
       "2235114 2019-12-31        3650        0.000000\n",
       "2235115 2019-12-31        3654        0.000000\n",
       "\n",
       "[2235116 rows x 3 columns]"
      ]
     },
     "execution_count": 31,
     "metadata": {},
     "output_type": "execute_result"
    }
   ],
   "source": [
    "base_1"
   ]
  },
  {
   "cell_type": "code",
   "execution_count": 32,
   "metadata": {},
   "outputs": [],
   "source": [
    "base_pred_1 = X_test.merge(base_1, on=['date','product_id'])[['sales_quantity']]"
   ]
  },
  {
   "cell_type": "code",
   "execution_count": 33,
   "metadata": {
    "scrolled": true
   },
   "outputs": [
    {
     "data": {
      "text/plain": [
       "0.786897772839219"
      ]
     },
     "execution_count": 33,
     "metadata": {},
     "output_type": "execute_result"
    }
   ],
   "source": [
    "np.sqrt(mean_squared_log_error(y_test, base_pred_1))"
   ]
  },
  {
   "cell_type": "markdown",
   "metadata": {},
   "source": [
    "### Means of store_id & date as target"
   ]
  },
  {
   "cell_type": "code",
   "execution_count": 34,
   "metadata": {},
   "outputs": [],
   "source": [
    "base_2 = pd.DataFrame(sales_all.groupby(['date','store_id'])['sales_quantity'].mean()).reset_index()"
   ]
  },
  {
   "cell_type": "code",
   "execution_count": 35,
   "metadata": {
    "scrolled": true
   },
   "outputs": [
    {
     "data": {
      "text/html": [
       "<div>\n",
       "<style scoped>\n",
       "    .dataframe tbody tr th:only-of-type {\n",
       "        vertical-align: middle;\n",
       "    }\n",
       "\n",
       "    .dataframe tbody tr th {\n",
       "        vertical-align: top;\n",
       "    }\n",
       "\n",
       "    .dataframe thead th {\n",
       "        text-align: right;\n",
       "    }\n",
       "</style>\n",
       "<table border=\"1\" class=\"dataframe\">\n",
       "  <thead>\n",
       "    <tr style=\"text-align: right;\">\n",
       "      <th></th>\n",
       "      <th>date</th>\n",
       "      <th>store_id</th>\n",
       "      <th>sales_quantity</th>\n",
       "    </tr>\n",
       "  </thead>\n",
       "  <tbody>\n",
       "    <tr>\n",
       "      <td>0</td>\n",
       "      <td>2017-01-01</td>\n",
       "      <td>1</td>\n",
       "      <td>1.150943</td>\n",
       "    </tr>\n",
       "    <tr>\n",
       "      <td>1</td>\n",
       "      <td>2017-01-01</td>\n",
       "      <td>3</td>\n",
       "      <td>0.956522</td>\n",
       "    </tr>\n",
       "    <tr>\n",
       "      <td>2</td>\n",
       "      <td>2017-01-01</td>\n",
       "      <td>4</td>\n",
       "      <td>0.039370</td>\n",
       "    </tr>\n",
       "    <tr>\n",
       "      <td>3</td>\n",
       "      <td>2017-01-01</td>\n",
       "      <td>7</td>\n",
       "      <td>0.017668</td>\n",
       "    </tr>\n",
       "    <tr>\n",
       "      <td>4</td>\n",
       "      <td>2017-01-01</td>\n",
       "      <td>9</td>\n",
       "      <td>0.888889</td>\n",
       "    </tr>\n",
       "    <tr>\n",
       "      <td>...</td>\n",
       "      <td>...</td>\n",
       "      <td>...</td>\n",
       "      <td>...</td>\n",
       "    </tr>\n",
       "    <tr>\n",
       "      <td>52482</td>\n",
       "      <td>2019-12-31</td>\n",
       "      <td>126</td>\n",
       "      <td>0.106250</td>\n",
       "    </tr>\n",
       "    <tr>\n",
       "      <td>52483</td>\n",
       "      <td>2019-12-31</td>\n",
       "      <td>130</td>\n",
       "      <td>0.070588</td>\n",
       "    </tr>\n",
       "    <tr>\n",
       "      <td>52484</td>\n",
       "      <td>2019-12-31</td>\n",
       "      <td>131</td>\n",
       "      <td>0.003195</td>\n",
       "    </tr>\n",
       "    <tr>\n",
       "      <td>52485</td>\n",
       "      <td>2019-12-31</td>\n",
       "      <td>132</td>\n",
       "      <td>0.012876</td>\n",
       "    </tr>\n",
       "    <tr>\n",
       "      <td>52486</td>\n",
       "      <td>2019-12-31</td>\n",
       "      <td>135</td>\n",
       "      <td>0.013736</td>\n",
       "    </tr>\n",
       "  </tbody>\n",
       "</table>\n",
       "<p>52487 rows × 3 columns</p>\n",
       "</div>"
      ],
      "text/plain": [
       "            date  store_id  sales_quantity\n",
       "0     2017-01-01         1        1.150943\n",
       "1     2017-01-01         3        0.956522\n",
       "2     2017-01-01         4        0.039370\n",
       "3     2017-01-01         7        0.017668\n",
       "4     2017-01-01         9        0.888889\n",
       "...          ...       ...             ...\n",
       "52482 2019-12-31       126        0.106250\n",
       "52483 2019-12-31       130        0.070588\n",
       "52484 2019-12-31       131        0.003195\n",
       "52485 2019-12-31       132        0.012876\n",
       "52486 2019-12-31       135        0.013736\n",
       "\n",
       "[52487 rows x 3 columns]"
      ]
     },
     "execution_count": 35,
     "metadata": {},
     "output_type": "execute_result"
    }
   ],
   "source": [
    "base_2"
   ]
  },
  {
   "cell_type": "code",
   "execution_count": 36,
   "metadata": {},
   "outputs": [],
   "source": [
    "base_pred_2 = X_test.merge(base_2, on=['date','store_id'])[['sales_quantity']]"
   ]
  },
  {
   "cell_type": "code",
   "execution_count": 37,
   "metadata": {
    "scrolled": true
   },
   "outputs": [
    {
     "data": {
      "text/plain": [
       "0.7486236460880616"
      ]
     },
     "execution_count": 37,
     "metadata": {},
     "output_type": "execute_result"
    }
   ],
   "source": [
    "np.sqrt(mean_squared_log_error(y_test, base_pred_2))"
   ]
  },
  {
   "cell_type": "markdown",
   "metadata": {},
   "source": [
    "### Means of store_id & product_id as target"
   ]
  },
  {
   "cell_type": "code",
   "execution_count": 38,
   "metadata": {},
   "outputs": [],
   "source": [
    "base_3 = pd.DataFrame(sales_all.groupby(['store_id','product_id'])['sales_quantity'].mean()).reset_index()"
   ]
  },
  {
   "cell_type": "code",
   "execution_count": 39,
   "metadata": {
    "scrolled": true
   },
   "outputs": [
    {
     "data": {
      "text/html": [
       "<div>\n",
       "<style scoped>\n",
       "    .dataframe tbody tr th:only-of-type {\n",
       "        vertical-align: middle;\n",
       "    }\n",
       "\n",
       "    .dataframe tbody tr th {\n",
       "        vertical-align: top;\n",
       "    }\n",
       "\n",
       "    .dataframe thead th {\n",
       "        text-align: right;\n",
       "    }\n",
       "</style>\n",
       "<table border=\"1\" class=\"dataframe\">\n",
       "  <thead>\n",
       "    <tr style=\"text-align: right;\">\n",
       "      <th></th>\n",
       "      <th>store_id</th>\n",
       "      <th>product_id</th>\n",
       "      <th>sales_quantity</th>\n",
       "    </tr>\n",
       "  </thead>\n",
       "  <tbody>\n",
       "    <tr>\n",
       "      <td>0</td>\n",
       "      <td>1</td>\n",
       "      <td>1</td>\n",
       "      <td>0.601449</td>\n",
       "    </tr>\n",
       "    <tr>\n",
       "      <td>1</td>\n",
       "      <td>1</td>\n",
       "      <td>3</td>\n",
       "      <td>0.708720</td>\n",
       "    </tr>\n",
       "    <tr>\n",
       "      <td>2</td>\n",
       "      <td>1</td>\n",
       "      <td>5</td>\n",
       "      <td>0.009524</td>\n",
       "    </tr>\n",
       "    <tr>\n",
       "      <td>3</td>\n",
       "      <td>1</td>\n",
       "      <td>7</td>\n",
       "      <td>0.878077</td>\n",
       "    </tr>\n",
       "    <tr>\n",
       "      <td>4</td>\n",
       "      <td>1</td>\n",
       "      <td>8</td>\n",
       "      <td>0.087438</td>\n",
       "    </tr>\n",
       "    <tr>\n",
       "      <td>...</td>\n",
       "      <td>...</td>\n",
       "      <td>...</td>\n",
       "      <td>...</td>\n",
       "    </tr>\n",
       "    <tr>\n",
       "      <td>62558</td>\n",
       "      <td>135</td>\n",
       "      <td>3653</td>\n",
       "      <td>0.032432</td>\n",
       "    </tr>\n",
       "    <tr>\n",
       "      <td>62559</td>\n",
       "      <td>135</td>\n",
       "      <td>3655</td>\n",
       "      <td>0.013559</td>\n",
       "    </tr>\n",
       "    <tr>\n",
       "      <td>62560</td>\n",
       "      <td>135</td>\n",
       "      <td>3657</td>\n",
       "      <td>0.002375</td>\n",
       "    </tr>\n",
       "    <tr>\n",
       "      <td>62561</td>\n",
       "      <td>135</td>\n",
       "      <td>3658</td>\n",
       "      <td>0.004545</td>\n",
       "    </tr>\n",
       "    <tr>\n",
       "      <td>62562</td>\n",
       "      <td>135</td>\n",
       "      <td>3660</td>\n",
       "      <td>8.394558</td>\n",
       "    </tr>\n",
       "  </tbody>\n",
       "</table>\n",
       "<p>62563 rows × 3 columns</p>\n",
       "</div>"
      ],
      "text/plain": [
       "       store_id  product_id  sales_quantity\n",
       "0             1           1        0.601449\n",
       "1             1           3        0.708720\n",
       "2             1           5        0.009524\n",
       "3             1           7        0.878077\n",
       "4             1           8        0.087438\n",
       "...         ...         ...             ...\n",
       "62558       135        3653        0.032432\n",
       "62559       135        3655        0.013559\n",
       "62560       135        3657        0.002375\n",
       "62561       135        3658        0.004545\n",
       "62562       135        3660        8.394558\n",
       "\n",
       "[62563 rows x 3 columns]"
      ]
     },
     "execution_count": 39,
     "metadata": {},
     "output_type": "execute_result"
    }
   ],
   "source": [
    "base_3"
   ]
  },
  {
   "cell_type": "code",
   "execution_count": 40,
   "metadata": {},
   "outputs": [],
   "source": [
    "base_pred_3 = X_test.merge(base_3, on=['store_id','product_id'])[['sales_quantity']]"
   ]
  },
  {
   "cell_type": "code",
   "execution_count": 41,
   "metadata": {
    "scrolled": true
   },
   "outputs": [
    {
     "data": {
      "text/plain": [
       "0.7750521382182208"
      ]
     },
     "execution_count": 41,
     "metadata": {},
     "output_type": "execute_result"
    }
   ],
   "source": [
    "np.sqrt(mean_squared_log_error(y_test, base_pred_3))"
   ]
  },
  {
   "cell_type": "markdown",
   "metadata": {},
   "source": [
    "# Feature Preprocessing"
   ]
  },
  {
   "cell_type": "code",
   "execution_count": 44,
   "metadata": {},
   "outputs": [],
   "source": [
    "from sklearn import preprocessing"
   ]
  },
  {
   "cell_type": "code",
   "execution_count": 42,
   "metadata": {},
   "outputs": [],
   "source": [
    "sales_all['city_id'] = sales_all['city_id'].astype(object)\n",
    "sales_all['year'] = sales_all['year'].astype(object)\n",
    "sales_all['month_of_year'] = sales_all['month_of_year'].astype(object)\n",
    "sales_all['season'] = sales_all['season'].astype(object)"
   ]
  },
  {
   "cell_type": "code",
   "execution_count": 43,
   "metadata": {},
   "outputs": [],
   "source": [
    "final_submission_all['city_id'] = final_submission_all['city_id'].astype(object)\n",
    "final_submission_all['year'] = final_submission_all['year'].astype(object)\n",
    "final_submission_all['month_of_year'] = final_submission_all['month_of_year'].astype(object)\n",
    "final_submission_all['season'] = final_submission_all['season'].astype(object)"
   ]
  },
  {
   "cell_type": "code",
   "execution_count": null,
   "metadata": {},
   "outputs": [],
   "source": [
    "#le = preprocessing.LabelEncoder()\n",
    "#\n",
    "#sales_all.columns\n",
    "#\n",
    "#cat_cols_for_le = ['middle_hierarchy','deep_hierarchy','year']\n",
    "#\n",
    "#for cols in cat_cols_for_le:\n",
    "#    le = preprocessing.LabelEncoder()\n",
    "#    \n",
    "#    le.fit(sales_all[cols])\n",
    "#    \n",
    "#    sales_all['{}_le'.format(cols)] = le.transform(sales_all[cols]) \n",
    "#    final_submission_all['{}_le'.format(cols)] = le.transform(final_submission_all[cols])"
   ]
  },
  {
   "cell_type": "code",
   "execution_count": 45,
   "metadata": {},
   "outputs": [],
   "source": [
    "num_cols_for_scale = ['number_of_products','pop','number_of_store','product_age']"
   ]
  },
  {
   "cell_type": "code",
   "execution_count": 46,
   "metadata": {},
   "outputs": [],
   "source": [
    "for cols in num_cols_for_scale:\n",
    "    \n",
    "    col_mean = sales_all[cols].mean()\n",
    "    col_std = sales_all[cols].std()\n",
    "    \n",
    "    sales_all['{}_scaled'.format(cols)] = (sales_all[cols] - col_mean) / col_std\n",
    "    final_submission_all['{}_scaled'.format(cols)] = (final_submission_all[cols] - col_mean) / col_std\n",
    "    \n",
    "    sales_all.drop(cols,axis=1,inplace=True)\n",
    "    final_submission_all.drop(cols,axis=1,inplace=True)"
   ]
  },
  {
   "cell_type": "code",
   "execution_count": 47,
   "metadata": {},
   "outputs": [],
   "source": [
    "one_hot_cols = ['deep_hierarchy','city_id',\n",
    "                'month_of_year','year','season']"
   ]
  },
  {
   "cell_type": "code",
   "execution_count": 48,
   "metadata": {},
   "outputs": [],
   "source": [
    "for cols in one_hot_cols:\n",
    "    \n",
    "    dummies = pd.get_dummies(sales_all[[cols]])\n",
    "    \n",
    "    sales_all = pd.concat([sales_all, dummies], axis=1)\n",
    "    \n",
    "    sales_all.drop(cols, axis=1, inplace=True)\n",
    "    \n",
    "    dummies = pd.get_dummies(final_submission_all[[cols]])\n",
    "    \n",
    "    final_submission_all = pd.concat([final_submission_all, dummies], axis=1)\n",
    "    \n",
    "    final_submission_all.drop(cols, axis=1, inplace=True)"
   ]
  },
  {
   "cell_type": "code",
   "execution_count": 49,
   "metadata": {
    "scrolled": true
   },
   "outputs": [
    {
     "data": {
      "text/plain": [
       "(24500487, 69)"
      ]
     },
     "execution_count": 49,
     "metadata": {},
     "output_type": "execute_result"
    }
   ],
   "source": [
    "sales_all.shape"
   ]
  },
  {
   "cell_type": "code",
   "execution_count": 50,
   "metadata": {},
   "outputs": [
    {
     "data": {
      "text/plain": [
       "(6125120, 68)"
      ]
     },
     "execution_count": 50,
     "metadata": {},
     "output_type": "execute_result"
    }
   ],
   "source": [
    "final_submission_all.shape"
   ]
  },
  {
   "cell_type": "markdown",
   "metadata": {},
   "source": [
    "# Modelling"
   ]
  },
  {
   "cell_type": "code",
   "execution_count": 54,
   "metadata": {},
   "outputs": [],
   "source": [
    "from sklearn.model_selection import train_test_split\n",
    "from sklearn.linear_model import LinearRegression"
   ]
  },
  {
   "cell_type": "code",
   "execution_count": 52,
   "metadata": {},
   "outputs": [
    {
     "data": {
      "text/plain": [
       "Index(['store_id', 'product_id', 'date', 'sales_quantity', 'is_promo',\n",
       "       'day_of_month', 'day_of_week', 'is_month_start', 'is_month_end',\n",
       "       'is_year_start', 'is_year_end', 'is_weekend',\n",
       "       'number_of_products_scaled', 'pop_scaled', 'number_of_store_scaled',\n",
       "       'product_age_scaled', 'deep_hierarchy_10_9_9', 'deep_hierarchy_11_13_5',\n",
       "       'deep_hierarchy_12_16_15', 'deep_hierarchy_13_14_4',\n",
       "       'deep_hierarchy_14_10_10', 'deep_hierarchy_1_1_2',\n",
       "       'deep_hierarchy_1_2_3', 'deep_hierarchy_2_3_1', 'deep_hierarchy_3_4_12',\n",
       "       'deep_hierarchy_3_5_6', 'deep_hierarchy_3_7_6',\n",
       "       'deep_hierarchy_4_15_17', 'deep_hierarchy_4_15_8',\n",
       "       'deep_hierarchy_5_12_8', 'deep_hierarchy_6_18_14',\n",
       "       'deep_hierarchy_7_8_18', 'deep_hierarchy_8_17_11',\n",
       "       'deep_hierarchy_9_11_13', 'deep_hierarchy_9_6_13',\n",
       "       'deep_hierarchy_9_6_16', 'deep_hierarchy_9_6_7', 'city_id_1',\n",
       "       'city_id_2', 'city_id_3', 'city_id_4', 'city_id_5', 'city_id_6',\n",
       "       'city_id_7', 'city_id_8', 'city_id_9', 'city_id_10', 'city_id_11',\n",
       "       'city_id_12', 'city_id_13', 'month_of_year_1', 'month_of_year_2',\n",
       "       'month_of_year_3', 'month_of_year_4', 'month_of_year_5',\n",
       "       'month_of_year_6', 'month_of_year_7', 'month_of_year_8',\n",
       "       'month_of_year_9', 'month_of_year_10', 'month_of_year_11',\n",
       "       'month_of_year_12', 'year_2017', 'year_2018', 'year_2019', 'season_0.0',\n",
       "       'season_1.0', 'season_2.0', 'season_3.0'],\n",
       "      dtype='object')"
      ]
     },
     "execution_count": 52,
     "metadata": {},
     "output_type": "execute_result"
    }
   ],
   "source": [
    "sales_all.columns"
   ]
  },
  {
   "cell_type": "code",
   "execution_count": 53,
   "metadata": {},
   "outputs": [],
   "source": [
    "X_train, X_test, y_train, y_test = train_test_split(sales_all.drop(['store_id', 'product_id', 'date', 'sales_quantity'],axis=1),\n",
    "                                                    sales_all['sales_quantity'],\n",
    "                                                    test_size=0.33, random_state=1)"
   ]
  },
  {
   "cell_type": "code",
   "execution_count": 55,
   "metadata": {},
   "outputs": [],
   "source": [
    "regr = LinearRegression()"
   ]
  },
  {
   "cell_type": "code",
   "execution_count": 56,
   "metadata": {},
   "outputs": [
    {
     "data": {
      "text/plain": [
       "LinearRegression(copy_X=True, fit_intercept=True, n_jobs=None, normalize=False)"
      ]
     },
     "execution_count": 56,
     "metadata": {},
     "output_type": "execute_result"
    }
   ],
   "source": [
    "regr.fit(X_train, y_train)"
   ]
  },
  {
   "cell_type": "code",
   "execution_count": 57,
   "metadata": {},
   "outputs": [],
   "source": [
    "preds = regr.predict(X_test)"
   ]
  },
  {
   "cell_type": "code",
   "execution_count": 58,
   "metadata": {},
   "outputs": [],
   "source": [
    "preds = np.where(preds < 0, 0, preds)"
   ]
  },
  {
   "cell_type": "code",
   "execution_count": 59,
   "metadata": {},
   "outputs": [
    {
     "data": {
      "text/plain": [
       "0.6314408742198532"
      ]
     },
     "execution_count": 59,
     "metadata": {},
     "output_type": "execute_result"
    }
   ],
   "source": [
    "np.sqrt(mean_squared_log_error(y_test, preds))"
   ]
  },
  {
   "cell_type": "code",
   "execution_count": 60,
   "metadata": {},
   "outputs": [],
   "source": [
    "preds_for_final = regr.predict(final_submission_all.drop(['store_id', 'product_id', 'date'],axis=1))"
   ]
  },
  {
   "cell_type": "code",
   "execution_count": 61,
   "metadata": {},
   "outputs": [],
   "source": [
    "preds_for_final = np.where(preds_for_final < 0, 0, preds_for_final)"
   ]
  },
  {
   "cell_type": "code",
   "execution_count": 62,
   "metadata": {},
   "outputs": [
    {
     "data": {
      "text/plain": [
       "array([1.2387259 , 1.16949773, 0.99221611, ..., 0.        , 0.        ,\n",
       "       0.24960303])"
      ]
     },
     "execution_count": 62,
     "metadata": {},
     "output_type": "execute_result"
    }
   ],
   "source": [
    "preds_for_final"
   ]
  },
  {
   "cell_type": "code",
   "execution_count": 63,
   "metadata": {},
   "outputs": [],
   "source": [
    "sample_submission['prediction'] = preds_for_final"
   ]
  },
  {
   "cell_type": "markdown",
   "metadata": {},
   "source": [
    "# Q2"
   ]
  },
  {
   "cell_type": "code",
   "execution_count": 64,
   "metadata": {},
   "outputs": [],
   "source": [
    "sample_submission = sample_submission.merge(product_values, on='product_id')"
   ]
  },
  {
   "cell_type": "code",
   "execution_count": 70,
   "metadata": {
    "scrolled": true
   },
   "outputs": [],
   "source": [
    "sample_submission['rate_based_value'] = 3000000/sum(np.ceil(sample_submission['prediction']*sample_submission['value']))"
   ]
  },
  {
   "cell_type": "code",
   "execution_count": 86,
   "metadata": {},
   "outputs": [
    {
     "data": {
      "text/html": [
       "<div>\n",
       "<style scoped>\n",
       "    .dataframe tbody tr th:only-of-type {\n",
       "        vertical-align: middle;\n",
       "    }\n",
       "\n",
       "    .dataframe tbody tr th {\n",
       "        vertical-align: top;\n",
       "    }\n",
       "\n",
       "    .dataframe thead th {\n",
       "        text-align: right;\n",
       "    }\n",
       "</style>\n",
       "<table border=\"1\" class=\"dataframe\">\n",
       "  <thead>\n",
       "    <tr style=\"text-align: right;\">\n",
       "      <th></th>\n",
       "      <th>store_id</th>\n",
       "      <th>product_id</th>\n",
       "      <th>date</th>\n",
       "      <th>prediction</th>\n",
       "      <th>order_quantity</th>\n",
       "      <th>value</th>\n",
       "      <th>rate_based_value</th>\n",
       "      <th>order_quantity_raw</th>\n",
       "    </tr>\n",
       "  </thead>\n",
       "  <tbody>\n",
       "    <tr>\n",
       "      <td>0</td>\n",
       "      <td>53</td>\n",
       "      <td>2213</td>\n",
       "      <td>2017-10-04</td>\n",
       "      <td>1.238726</td>\n",
       "      <td>0.0</td>\n",
       "      <td>2.37</td>\n",
       "      <td>0.211923</td>\n",
       "      <td>0.0</td>\n",
       "    </tr>\n",
       "    <tr>\n",
       "      <td>1</td>\n",
       "      <td>45</td>\n",
       "      <td>2213</td>\n",
       "      <td>2018-04-25</td>\n",
       "      <td>0.694462</td>\n",
       "      <td>0.0</td>\n",
       "      <td>2.37</td>\n",
       "      <td>0.211923</td>\n",
       "      <td>0.0</td>\n",
       "    </tr>\n",
       "    <tr>\n",
       "      <td>2</td>\n",
       "      <td>1</td>\n",
       "      <td>2213</td>\n",
       "      <td>2017-08-26</td>\n",
       "      <td>0.434268</td>\n",
       "      <td>0.0</td>\n",
       "      <td>2.37</td>\n",
       "      <td>0.211923</td>\n",
       "      <td>0.0</td>\n",
       "    </tr>\n",
       "    <tr>\n",
       "      <td>3</td>\n",
       "      <td>51</td>\n",
       "      <td>2213</td>\n",
       "      <td>2019-12-11</td>\n",
       "      <td>2.086198</td>\n",
       "      <td>0.0</td>\n",
       "      <td>2.37</td>\n",
       "      <td>0.211923</td>\n",
       "      <td>0.0</td>\n",
       "    </tr>\n",
       "    <tr>\n",
       "      <td>4</td>\n",
       "      <td>60</td>\n",
       "      <td>2213</td>\n",
       "      <td>2018-02-21</td>\n",
       "      <td>0.684397</td>\n",
       "      <td>0.0</td>\n",
       "      <td>2.37</td>\n",
       "      <td>0.211923</td>\n",
       "      <td>0.0</td>\n",
       "    </tr>\n",
       "  </tbody>\n",
       "</table>\n",
       "</div>"
      ],
      "text/plain": [
       "   store_id  product_id        date  prediction  order_quantity  value  \\\n",
       "0        53        2213  2017-10-04    1.238726             0.0   2.37   \n",
       "1        45        2213  2018-04-25    0.694462             0.0   2.37   \n",
       "2         1        2213  2017-08-26    0.434268             0.0   2.37   \n",
       "3        51        2213  2019-12-11    2.086198             0.0   2.37   \n",
       "4        60        2213  2018-02-21    0.684397             0.0   2.37   \n",
       "\n",
       "   rate_based_value  order_quantity_raw  \n",
       "0          0.211923                 0.0  \n",
       "1          0.211923                 0.0  \n",
       "2          0.211923                 0.0  \n",
       "3          0.211923                 0.0  \n",
       "4          0.211923                 0.0  "
      ]
     },
     "execution_count": 86,
     "metadata": {},
     "output_type": "execute_result"
    }
   ],
   "source": [
    "sample_submission.head()"
   ]
  },
  {
   "cell_type": "code",
   "execution_count": 83,
   "metadata": {},
   "outputs": [],
   "source": [
    "sample_submission['order_quantity_raw'] = np.ceil(sample_submission['prediction'])*sample_submission['rate_based_value']"
   ]
  },
  {
   "cell_type": "code",
   "execution_count": 84,
   "metadata": {},
   "outputs": [],
   "source": [
    "sample_submission['order_quantity_raw'] = np.floor(sample_submission['order_quantity_raw'])"
   ]
  },
  {
   "cell_type": "code",
   "execution_count": 85,
   "metadata": {},
   "outputs": [],
   "source": [
    "sample_submission['order_quantity'] = sample_submission['order_quantity_raw']*(3000000/sum(sample_submission['order_quantity_raw']))"
   ]
  },
  {
   "cell_type": "code",
   "execution_count": 88,
   "metadata": {},
   "outputs": [],
   "source": [
    "sample_submission['order_quantity'] = sample_submission['order_quantity'].astype(int)"
   ]
  },
  {
   "cell_type": "code",
   "execution_count": 90,
   "metadata": {},
   "outputs": [],
   "source": [
    "sample_submission.drop(['value','rate_based_value','order_quantity_raw'], axis=1,inplace=True)"
   ]
  },
  {
   "cell_type": "code",
   "execution_count": 91,
   "metadata": {},
   "outputs": [],
   "source": [
    "sample_submission.to_csv('/Users/emre.atilgan/Desktop/AlgoRun20/data/ISTOP.csv',sep='|',index=False)"
   ]
  },
  {
   "cell_type": "code",
   "execution_count": null,
   "metadata": {},
   "outputs": [],
   "source": []
  },
  {
   "cell_type": "code",
   "execution_count": null,
   "metadata": {},
   "outputs": [],
   "source": []
  },
  {
   "cell_type": "code",
   "execution_count": null,
   "metadata": {},
   "outputs": [],
   "source": []
  },
  {
   "cell_type": "code",
   "execution_count": null,
   "metadata": {},
   "outputs": [],
   "source": []
  },
  {
   "cell_type": "code",
   "execution_count": null,
   "metadata": {},
   "outputs": [],
   "source": []
  },
  {
   "cell_type": "code",
   "execution_count": null,
   "metadata": {},
   "outputs": [],
   "source": []
  }
 ],
 "metadata": {
  "kernelspec": {
   "display_name": "Python 3",
   "language": "python",
   "name": "python3"
  },
  "language_info": {
   "codemirror_mode": {
    "name": "ipython",
    "version": 3
   },
   "file_extension": ".py",
   "mimetype": "text/x-python",
   "name": "python",
   "nbconvert_exporter": "python",
   "pygments_lexer": "ipython3",
   "version": "3.7.4"
  }
 },
 "nbformat": 4,
 "nbformat_minor": 2
}
